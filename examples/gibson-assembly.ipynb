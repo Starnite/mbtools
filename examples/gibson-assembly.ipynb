{
 "cells": [
  {
   "cell_type": "code",
   "execution_count": 67,
   "metadata": {
    "collapsed": false
   },
   "outputs": [
    {
     "name": "stdout",
     "output_type": "stream",
     "text": [
      "The autoreload extension is already loaded. To reload it, use:\n",
      "  %reload_ext autoreload\n"
     ]
    }
   ],
   "source": [
    "%load_ext autoreload\n",
    "%autoreload 2"
   ]
  },
  {
   "cell_type": "code",
   "execution_count": 68,
   "metadata": {
    "collapsed": true
   },
   "outputs": [],
   "source": [
    "from random import choice\n",
    "from mbtools.assembly import GibsonAssembler\n",
    "from mbtools.pcr import compute_amplicon\n",
    "from mbtools.primers import gibson_assembly_primers\n",
    "\n",
    "def seq_generator(length):\n",
    "    \"\"\"Random sequence generator.\"\"\"\n",
    "    return ''.join(choice('CGTA') for _ in range(length))\n",
    "\n",
    "part1 = seq_generator(503)\n",
    "part2 = seq_generator(911)\n",
    "part3 = seq_generator(1736)"
   ]
  },
  {
   "cell_type": "code",
   "execution_count": 69,
   "metadata": {
    "collapsed": false
   },
   "outputs": [
    {
     "data": {
      "text/plain": [
       "defaultdict(dict,\n",
       "            {0: {'3p_sequencing': Seq('GATTATGATGCACGGCAGGA', Alphabet()),\n",
       "              '5p_sequencing': Seq('TCGTTGGGCGGGCGTACTAT', Alphabet()),\n",
       "              'fw_gibson': Seq('TGTTGCCAGGATAGACACTAACCTGCAGCTGCTTCTGTAC', DNAAlphabet()),\n",
       "              're_gibson': Seq('TACTATCTACGATGCGATCGGTAGGCGAGACCAACCAGGT', DNAAlphabet())},\n",
       "             1: {'3p_sequencing': Seq('AGATTTGTGCCACCATACAT', Alphabet()),\n",
       "              '5p_sequencing': Seq('TCTTGTTGTGTCAACCGCTG', Alphabet()),\n",
       "              'fw_gibson': Seq('GCCTACCGATCGCATCGTAGATAGTAGTAACTAGTAGCTA', DNAAlphabet()),\n",
       "              're_gibson': Seq('CCCGGAGTCTAACAGCGTCGAAACAATCCAGCAAAACTGT', DNAAlphabet())},\n",
       "             2: {'3p_sequencing': Seq('CGCCGCGCAAAGTTAACCAC', Alphabet()),\n",
       "              '5p_sequencing': Seq('TTTACTGCAATAGCTACCTG', Alphabet()),\n",
       "              'fw_gibson': Seq('TTGTTTCGACGCTGTTAGACTCCGGGGCCTTCCACCATTC', DNAAlphabet()),\n",
       "              're_gibson': Seq('GCAGGTTAGTGTCTATCCTGGCAACAATTGTGCCGGGAAT', DNAAlphabet())}})"
      ]
     },
     "execution_count": 69,
     "metadata": {},
     "output_type": "execute_result"
    }
   ],
   "source": [
    "g = GibsonAssembler([part1, part2, part3])\n",
    "g.primers()"
   ]
  },
  {
   "cell_type": "code",
   "execution_count": 70,
   "metadata": {
    "collapsed": false
   },
   "outputs": [
    {
     "name": "stdout",
     "output_type": "stream",
     "text": [
      "Match(a=0, b=0, size=0)\n",
      "Match(a=0, b=0, size=0)\n",
      "(0, 0) (0, 0)\n",
      "(0, 0) (0, 0)\n",
      "TTGTTTCGACGCTGTTAGACTCCGGGGCCTTCCACCATTCATTCCCGGCACAATTGTTGCCAGGATAGACACTAACCTGC\n",
      "Match(a=0, b=0, size=0)\n",
      "Match(a=0, b=0, size=1)\n",
      "(0, 0) (0, 0)\n",
      "(0, 1) (0, 1)\n",
      "GCCTACCGATCGCATCGTAGATAGTAGTAACTAGTAGCTAACAGTTTTGCTGGATTGTTTCGACGCTGTTAGACTCCGGG\n",
      "Match(a=0, b=0, size=0)\n",
      "Match(a=0, b=0, size=0)\n",
      "(0, 0) (0, 0)\n",
      "(0, 0) (0, 0)\n",
      "TGTTGCCAGGATAGACACTAACCTGCAGCTGCTTCTGTACACCTGGTTGGTCTCGCCTACCGATCGCATCGTAGATAGTA\n"
     ]
    }
   ],
   "source": [
    "amplicons = dict()\n",
    "for p, d in g.nodes(data=True):\n",
    "    amplicons[d['id']] = compute_amplicon(d['fw_gibson'], d['re_gibson'], p)\n",
    "#     print(p)\n",
    "#     print(d)\n",
    "    print(amplicons[d['id']])"
   ]
  },
  {
   "cell_type": "code",
   "execution_count": 71,
   "metadata": {
    "collapsed": false
   },
   "outputs": [
    {
     "data": {
      "text/plain": [
       "80"
      ]
     },
     "execution_count": 71,
     "metadata": {},
     "output_type": "execute_result"
    }
   ],
   "source": [
    "len(amplicons[0])"
   ]
  },
  {
   "cell_type": "code",
   "execution_count": 72,
   "metadata": {
    "collapsed": false
   },
   "outputs": [],
   "source": [
    "_, part2_fw = gibson_assembly_primers(part1, part2)\n",
    "part2_re, _ = gibson_assembly_primers(part2, part3)"
   ]
  },
  {
   "cell_type": "code",
   "execution_count": 73,
   "metadata": {
    "collapsed": false
   },
   "outputs": [
    {
     "data": {
      "text/plain": [
       "(Seq('TACTATCTACGAT', DNAAlphabet()), 'GCCTACCGATCGC')"
      ]
     },
     "execution_count": 73,
     "metadata": {},
     "output_type": "execute_result"
    }
   ],
   "source": [
    "part2_fw[0:13], part1[-13:]"
   ]
  },
  {
   "cell_type": "code",
   "execution_count": 74,
   "metadata": {
    "collapsed": false
   },
   "outputs": [
    {
     "data": {
      "text/plain": [
       "27"
      ]
     },
     "execution_count": 74,
     "metadata": {},
     "output_type": "execute_result"
    }
   ],
   "source": [
    "int(round(40 * 2/3))"
   ]
  },
  {
   "cell_type": "code",
   "execution_count": 75,
   "metadata": {
    "collapsed": false
   },
   "outputs": [
    {
     "data": {
      "text/plain": [
       "13"
      ]
     },
     "execution_count": 75,
     "metadata": {},
     "output_type": "execute_result"
    }
   ],
   "source": [
    "int(round(40 * 1/3))"
   ]
  },
  {
   "cell_type": "code",
   "execution_count": null,
   "metadata": {
    "collapsed": true
   },
   "outputs": [],
   "source": []
  },
  {
   "cell_type": "code",
   "execution_count": null,
   "metadata": {
    "collapsed": true
   },
   "outputs": [],
   "source": []
  }
 ],
 "metadata": {
  "kernelspec": {
   "display_name": "Python 3",
   "language": "python",
   "name": "python3"
  },
  "language_info": {
   "codemirror_mode": {
    "name": "ipython",
    "version": 3
   },
   "file_extension": ".py",
   "mimetype": "text/x-python",
   "name": "python",
   "nbconvert_exporter": "python",
   "pygments_lexer": "ipython3",
   "version": "3.5.2"
  }
 },
 "nbformat": 4,
 "nbformat_minor": 0
}
